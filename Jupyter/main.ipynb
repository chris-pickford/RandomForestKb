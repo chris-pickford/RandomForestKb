{
 "cells": [
  {
   "cell_type": "code",
   "execution_count": 1,
   "metadata": {
    "ExecuteTime": {
     "end_time": "2019-09-04T08:43:03.197801Z",
     "start_time": "2019-09-04T08:42:51.901470Z"
    }
   },
   "outputs": [],
   "source": [
    "import os\n",
    "import sys\n",
    "import config as cfg\n",
    "import time\n",
    "\n",
    "\n",
    "import pandas as pd\n",
    "import numpy as np\n",
    "\n",
    "import matplotlib.pyplot as plt\n",
    "import seaborn as sns\n",
    "\n",
    "%matplotlib inline\n",
    "sns.set()\n"
   ]
  },
  {
   "cell_type": "code",
   "execution_count": 2,
   "metadata": {
    "ExecuteTime": {
     "end_time": "2019-09-04T08:43:03.217133Z",
     "start_time": "2019-09-04T08:43:03.214069Z"
    }
   },
   "outputs": [],
   "source": [
    "PROJECT_NAME = 'RandomForestKb'\n",
    "PROJECT_START_DATE = '19/07/2019' #ENGLISH DATE FORMAT\n",
    "PROJECT_END_DATE = '' #ENGLISH DATE FORMAT"
   ]
  },
  {
   "cell_type": "code",
   "execution_count": 3,
   "metadata": {
    "ExecuteTime": {
     "end_time": "2019-09-04T08:43:03.253750Z",
     "start_time": "2019-09-04T08:43:03.232498Z"
    },
    "scrolled": true
   },
   "outputs": [
    {
     "name": "stdout",
     "output_type": "stream",
     "text": [
      "The haribo package provides the following functions to use in Jupyter:\n",
      "\n",
      "set_screen_width() - sets cells to be 90% of screen width\n",
      "\n",
      "show_df(dataFrame, allRows = False) - shows all columns of a dataFrame when displayed\n",
      "\n",
      "pickle_it(data, path) - safely pickles a file\n",
      "\n",
      "from_pickle_jar(path) - safely loads a pickled file\n",
      "\n"
     ]
    },
    {
     "data": {
      "text/html": [
       "<style>.container { width:90% !important; }</style>"
      ],
      "text/plain": [
       "<IPython.core.display.HTML object>"
      ]
     },
     "metadata": {},
     "output_type": "display_data"
    }
   ],
   "source": [
    "#ROOT, PROJECT_ROOT, PACKAGE_ROOT = config.configure_environment('Local',PROJECT_NAME)\n",
    "\n",
    "config = cfg.privateConfig(cfg.OS, PROJECT_NAME)"
   ]
  },
  {
   "cell_type": "code",
   "execution_count": 4,
   "metadata": {
    "ExecuteTime": {
     "end_time": "2019-09-04T08:43:03.272170Z",
     "start_time": "2019-09-04T08:43:03.268498Z"
    }
   },
   "outputs": [],
   "source": [
    "from CodeCandy.haribo import jupyter as candy"
   ]
  },
  {
   "cell_type": "markdown",
   "metadata": {},
   "source": [
    "# Brief\n",
    "\n",
    "For this project I want to be able to predict how many people will attend my class on a given day using the data I have collected from my classes over the past several years.  I also want to combine my dataset with additional information for Manchester, UK (where my classes took place) such as weather data.\n",
    "\n",
    "I would like to understand what the influencing factors on class attendance are."
   ]
  },
  {
   "cell_type": "markdown",
   "metadata": {},
   "source": [
    "# Import the CSV data"
   ]
  },
  {
   "cell_type": "markdown",
   "metadata": {},
   "source": [
    "## Read into DataFrame"
   ]
  },
  {
   "cell_type": "code",
   "execution_count": 5,
   "metadata": {
    "ExecuteTime": {
     "end_time": "2019-09-04T08:43:03.502768Z",
     "start_time": "2019-09-04T08:43:03.288530Z"
    }
   },
   "outputs": [],
   "source": [
    "dfRaw = pd.read_csv(os.path.join(config.PROJECT_ROOT, 'Materials','CSV','raw.csv'),parse_dates=True)\n",
    "\n",
    "dfRaw = pd.read_csv(\n",
    "    os.path.join(config.PROJECT_ROOT, 'Materials','CSV','raw.csv'),\n",
    "    parse_dates=['Date'],\n",
    "    dayfirst=True,\n",
    "    index_col='Date', \n",
    "    dtype={\n",
    "        'AcademicYear':np.int32,\n",
    "        'Week': np.int32,\n",
    "        'HeadCount': np.int32,\n",
    "        'PaidCount': np.int32,\n",
    "    }\n",
    ")\n",
    "dfRaw['ClassTime']= dfRaw['ClassTime'].apply(lambda x: x[:-2])\n",
    "dfRaw['ClassTime']= pd.to_datetime(dfRaw.index.astype(str) + ' ' + dfRaw['ClassTime'].astype(float).add(12.00).round(2).astype(str).str.replace('.',':') +'0').dt.time\n",
    "\n",
    "dfRaw['year'] = [d.year for d in dfRaw.index]\n",
    "dfRaw['month'] = [d.strftime('%b') for d in dfRaw.index]\n",
    "\n",
    "\n"
   ]
  },
  {
   "cell_type": "code",
   "execution_count": 6,
   "metadata": {
    "ExecuteTime": {
     "end_time": "2019-09-04T08:43:03.615809Z",
     "start_time": "2019-09-04T08:43:03.552029Z"
    }
   },
   "outputs": [
    {
     "data": {
      "text/html": [
       "<div>\n",
       "<style scoped>\n",
       "    .dataframe tbody tr th:only-of-type {\n",
       "        vertical-align: middle;\n",
       "    }\n",
       "\n",
       "    .dataframe tbody tr th {\n",
       "        vertical-align: top;\n",
       "    }\n",
       "\n",
       "    .dataframe thead th {\n",
       "        text-align: right;\n",
       "    }\n",
       "</style>\n",
       "<table border=\"1\" class=\"dataframe\">\n",
       "  <thead>\n",
       "    <tr style=\"text-align: right;\">\n",
       "      <th></th>\n",
       "      <th>AcademicYear</th>\n",
       "      <th>Week</th>\n",
       "      <th>HeadCount</th>\n",
       "      <th>PaidCount</th>\n",
       "      <th>CashTaken</th>\n",
       "      <th>year</th>\n",
       "    </tr>\n",
       "  </thead>\n",
       "  <tbody>\n",
       "    <tr>\n",
       "      <th>count</th>\n",
       "      <td>452.000000</td>\n",
       "      <td>452.000000</td>\n",
       "      <td>452.000000</td>\n",
       "      <td>452.000000</td>\n",
       "      <td>450.00000</td>\n",
       "      <td>452.000000</td>\n",
       "    </tr>\n",
       "    <tr>\n",
       "      <th>mean</th>\n",
       "      <td>2014.588496</td>\n",
       "      <td>14.654867</td>\n",
       "      <td>39.984513</td>\n",
       "      <td>31.108407</td>\n",
       "      <td>121.85600</td>\n",
       "      <td>2015.183628</td>\n",
       "    </tr>\n",
       "    <tr>\n",
       "      <th>std</th>\n",
       "      <td>2.307541</td>\n",
       "      <td>8.212013</td>\n",
       "      <td>32.585718</td>\n",
       "      <td>20.678389</td>\n",
       "      <td>80.42385</td>\n",
       "      <td>2.371186</td>\n",
       "    </tr>\n",
       "    <tr>\n",
       "      <th>min</th>\n",
       "      <td>2011.000000</td>\n",
       "      <td>1.000000</td>\n",
       "      <td>0.000000</td>\n",
       "      <td>0.000000</td>\n",
       "      <td>0.00000</td>\n",
       "      <td>2011.000000</td>\n",
       "    </tr>\n",
       "    <tr>\n",
       "      <th>25%</th>\n",
       "      <td>2013.000000</td>\n",
       "      <td>8.000000</td>\n",
       "      <td>21.000000</td>\n",
       "      <td>18.000000</td>\n",
       "      <td>70.20000</td>\n",
       "      <td>2013.000000</td>\n",
       "    </tr>\n",
       "    <tr>\n",
       "      <th>50%</th>\n",
       "      <td>2015.000000</td>\n",
       "      <td>15.000000</td>\n",
       "      <td>32.000000</td>\n",
       "      <td>29.000000</td>\n",
       "      <td>113.10000</td>\n",
       "      <td>2015.000000</td>\n",
       "    </tr>\n",
       "    <tr>\n",
       "      <th>75%</th>\n",
       "      <td>2017.000000</td>\n",
       "      <td>22.000000</td>\n",
       "      <td>48.000000</td>\n",
       "      <td>39.000000</td>\n",
       "      <td>152.10000</td>\n",
       "      <td>2017.000000</td>\n",
       "    </tr>\n",
       "    <tr>\n",
       "      <th>max</th>\n",
       "      <td>2018.000000</td>\n",
       "      <td>31.000000</td>\n",
       "      <td>240.000000</td>\n",
       "      <td>154.000000</td>\n",
       "      <td>600.60000</td>\n",
       "      <td>2019.000000</td>\n",
       "    </tr>\n",
       "  </tbody>\n",
       "</table>\n",
       "</div>"
      ],
      "text/plain": [
       "       AcademicYear        Week   HeadCount   PaidCount  CashTaken  \\\n",
       "count    452.000000  452.000000  452.000000  452.000000  450.00000   \n",
       "mean    2014.588496   14.654867   39.984513   31.108407  121.85600   \n",
       "std        2.307541    8.212013   32.585718   20.678389   80.42385   \n",
       "min     2011.000000    1.000000    0.000000    0.000000    0.00000   \n",
       "25%     2013.000000    8.000000   21.000000   18.000000   70.20000   \n",
       "50%     2015.000000   15.000000   32.000000   29.000000  113.10000   \n",
       "75%     2017.000000   22.000000   48.000000   39.000000  152.10000   \n",
       "max     2018.000000   31.000000  240.000000  154.000000  600.60000   \n",
       "\n",
       "              year  \n",
       "count   452.000000  \n",
       "mean   2015.183628  \n",
       "std       2.371186  \n",
       "min    2011.000000  \n",
       "25%    2013.000000  \n",
       "50%    2015.000000  \n",
       "75%    2017.000000  \n",
       "max    2019.000000  "
      ]
     },
     "execution_count": 6,
     "metadata": {},
     "output_type": "execute_result"
    }
   ],
   "source": [
    "dfRaw.describe()"
   ]
  },
  {
   "cell_type": "code",
   "execution_count": 7,
   "metadata": {
    "ExecuteTime": {
     "end_time": "2019-09-04T08:45:35.361391Z",
     "start_time": "2019-09-04T08:45:35.351519Z"
    }
   },
   "outputs": [
    {
     "name": "stdout",
     "output_type": "stream",
     "text": [
      "<class 'pandas.core.frame.DataFrame'>\n",
      "DatetimeIndex: 452 entries, 2011-09-27 to 2019-05-30\n",
      "Data columns (total 11 columns):\n",
      "AcademicYear    452 non-null int32\n",
      "Week            452 non-null int32\n",
      "HeadCount       452 non-null int32\n",
      "PaidCount       452 non-null int32\n",
      "CashTaken       450 non-null float64\n",
      "ClassTime       452 non-null object\n",
      "Venue           452 non-null object\n",
      "Event           76 non-null object\n",
      "Social          9 non-null object\n",
      "year            452 non-null int64\n",
      "month           452 non-null object\n",
      "dtypes: float64(1), int32(4), int64(1), object(5)\n",
      "memory usage: 35.3+ KB\n"
     ]
    }
   ],
   "source": [
    "dfRaw.info()"
   ]
  },
  {
   "cell_type": "markdown",
   "metadata": {},
   "source": [
    "## Wrangle and twist the data into a sensible format"
   ]
  },
  {
   "cell_type": "code",
   "execution_count": 8,
   "metadata": {
    "ExecuteTime": {
     "end_time": "2019-09-04T08:45:37.624027Z",
     "start_time": "2019-09-04T08:45:37.602412Z"
    }
   },
   "outputs": [
    {
     "data": {
      "text/html": [
       "<div>\n",
       "<style scoped>\n",
       "    .dataframe tbody tr th:only-of-type {\n",
       "        vertical-align: middle;\n",
       "    }\n",
       "\n",
       "    .dataframe tbody tr th {\n",
       "        vertical-align: top;\n",
       "    }\n",
       "\n",
       "    .dataframe thead th {\n",
       "        text-align: right;\n",
       "    }\n",
       "</style>\n",
       "<table border=\"1\" class=\"dataframe\">\n",
       "  <thead>\n",
       "    <tr style=\"text-align: right;\">\n",
       "      <th></th>\n",
       "      <th>AcademicYear</th>\n",
       "      <th>Week</th>\n",
       "      <th>HeadCount</th>\n",
       "      <th>PaidCount</th>\n",
       "      <th>CashTaken</th>\n",
       "      <th>ClassTime</th>\n",
       "      <th>Venue</th>\n",
       "      <th>Event</th>\n",
       "      <th>Social</th>\n",
       "      <th>year</th>\n",
       "      <th>month</th>\n",
       "    </tr>\n",
       "    <tr>\n",
       "      <th>Date</th>\n",
       "      <th></th>\n",
       "      <th></th>\n",
       "      <th></th>\n",
       "      <th></th>\n",
       "      <th></th>\n",
       "      <th></th>\n",
       "      <th></th>\n",
       "      <th></th>\n",
       "      <th></th>\n",
       "      <th></th>\n",
       "      <th></th>\n",
       "    </tr>\n",
       "  </thead>\n",
       "  <tbody>\n",
       "    <tr>\n",
       "      <th>2011-09-27</th>\n",
       "      <td>2011</td>\n",
       "      <td>1</td>\n",
       "      <td>26</td>\n",
       "      <td>0</td>\n",
       "      <td>0.0</td>\n",
       "      <td>18:00:00</td>\n",
       "      <td>Sugden</td>\n",
       "      <td>First Class</td>\n",
       "      <td>NaN</td>\n",
       "      <td>2011</td>\n",
       "      <td>Sep</td>\n",
       "    </tr>\n",
       "    <tr>\n",
       "      <th>2011-09-29</th>\n",
       "      <td>2011</td>\n",
       "      <td>1</td>\n",
       "      <td>42</td>\n",
       "      <td>0</td>\n",
       "      <td>0.0</td>\n",
       "      <td>18:30:00</td>\n",
       "      <td>Sugden</td>\n",
       "      <td>NaN</td>\n",
       "      <td>NaN</td>\n",
       "      <td>2011</td>\n",
       "      <td>Sep</td>\n",
       "    </tr>\n",
       "    <tr>\n",
       "      <th>2011-10-04</th>\n",
       "      <td>2011</td>\n",
       "      <td>2</td>\n",
       "      <td>33</td>\n",
       "      <td>33</td>\n",
       "      <td>128.7</td>\n",
       "      <td>18:00:00</td>\n",
       "      <td>Sugden</td>\n",
       "      <td>NaN</td>\n",
       "      <td>NaN</td>\n",
       "      <td>2011</td>\n",
       "      <td>Oct</td>\n",
       "    </tr>\n",
       "    <tr>\n",
       "      <th>2011-10-06</th>\n",
       "      <td>2011</td>\n",
       "      <td>2</td>\n",
       "      <td>33</td>\n",
       "      <td>33</td>\n",
       "      <td>128.7</td>\n",
       "      <td>18:30:00</td>\n",
       "      <td>Sugden</td>\n",
       "      <td>NaN</td>\n",
       "      <td>NaN</td>\n",
       "      <td>2011</td>\n",
       "      <td>Oct</td>\n",
       "    </tr>\n",
       "    <tr>\n",
       "      <th>2011-10-11</th>\n",
       "      <td>2011</td>\n",
       "      <td>3</td>\n",
       "      <td>27</td>\n",
       "      <td>27</td>\n",
       "      <td>105.3</td>\n",
       "      <td>18:00:00</td>\n",
       "      <td>Sugden</td>\n",
       "      <td>NaN</td>\n",
       "      <td>NaN</td>\n",
       "      <td>2011</td>\n",
       "      <td>Oct</td>\n",
       "    </tr>\n",
       "    <tr>\n",
       "      <th>2011-10-13</th>\n",
       "      <td>2011</td>\n",
       "      <td>3</td>\n",
       "      <td>42</td>\n",
       "      <td>42</td>\n",
       "      <td>163.8</td>\n",
       "      <td>18:30:00</td>\n",
       "      <td>Sugden</td>\n",
       "      <td>NaN</td>\n",
       "      <td>NaN</td>\n",
       "      <td>2011</td>\n",
       "      <td>Oct</td>\n",
       "    </tr>\n",
       "    <tr>\n",
       "      <th>2011-10-18</th>\n",
       "      <td>2011</td>\n",
       "      <td>4</td>\n",
       "      <td>21</td>\n",
       "      <td>21</td>\n",
       "      <td>81.9</td>\n",
       "      <td>18:00:00</td>\n",
       "      <td>Sugden</td>\n",
       "      <td>NaN</td>\n",
       "      <td>NaN</td>\n",
       "      <td>2011</td>\n",
       "      <td>Oct</td>\n",
       "    </tr>\n",
       "    <tr>\n",
       "      <th>2011-10-20</th>\n",
       "      <td>2011</td>\n",
       "      <td>4</td>\n",
       "      <td>32</td>\n",
       "      <td>32</td>\n",
       "      <td>124.8</td>\n",
       "      <td>18:30:00</td>\n",
       "      <td>Sugden</td>\n",
       "      <td>NaN</td>\n",
       "      <td>NaN</td>\n",
       "      <td>2011</td>\n",
       "      <td>Oct</td>\n",
       "    </tr>\n",
       "    <tr>\n",
       "      <th>2011-10-25</th>\n",
       "      <td>2011</td>\n",
       "      <td>5</td>\n",
       "      <td>23</td>\n",
       "      <td>23</td>\n",
       "      <td>89.7</td>\n",
       "      <td>18:00:00</td>\n",
       "      <td>Sugden</td>\n",
       "      <td>NaN</td>\n",
       "      <td>NaN</td>\n",
       "      <td>2011</td>\n",
       "      <td>Oct</td>\n",
       "    </tr>\n",
       "    <tr>\n",
       "      <th>2011-10-27</th>\n",
       "      <td>2011</td>\n",
       "      <td>5</td>\n",
       "      <td>27</td>\n",
       "      <td>27</td>\n",
       "      <td>105.3</td>\n",
       "      <td>18:30:00</td>\n",
       "      <td>Sugden</td>\n",
       "      <td>NaN</td>\n",
       "      <td>NaN</td>\n",
       "      <td>2011</td>\n",
       "      <td>Oct</td>\n",
       "    </tr>\n",
       "  </tbody>\n",
       "</table>\n",
       "</div>"
      ],
      "text/plain": [
       "            AcademicYear  Week  HeadCount  PaidCount  CashTaken ClassTime  \\\n",
       "Date                                                                        \n",
       "2011-09-27          2011     1         26          0        0.0  18:00:00   \n",
       "2011-09-29          2011     1         42          0        0.0  18:30:00   \n",
       "2011-10-04          2011     2         33         33      128.7  18:00:00   \n",
       "2011-10-06          2011     2         33         33      128.7  18:30:00   \n",
       "2011-10-11          2011     3         27         27      105.3  18:00:00   \n",
       "2011-10-13          2011     3         42         42      163.8  18:30:00   \n",
       "2011-10-18          2011     4         21         21       81.9  18:00:00   \n",
       "2011-10-20          2011     4         32         32      124.8  18:30:00   \n",
       "2011-10-25          2011     5         23         23       89.7  18:00:00   \n",
       "2011-10-27          2011     5         27         27      105.3  18:30:00   \n",
       "\n",
       "             Venue        Event Social  year month  \n",
       "Date                                                \n",
       "2011-09-27  Sugden  First Class    NaN  2011   Sep  \n",
       "2011-09-29  Sugden          NaN    NaN  2011   Sep  \n",
       "2011-10-04  Sugden          NaN    NaN  2011   Oct  \n",
       "2011-10-06  Sugden          NaN    NaN  2011   Oct  \n",
       "2011-10-11  Sugden          NaN    NaN  2011   Oct  \n",
       "2011-10-13  Sugden          NaN    NaN  2011   Oct  \n",
       "2011-10-18  Sugden          NaN    NaN  2011   Oct  \n",
       "2011-10-20  Sugden          NaN    NaN  2011   Oct  \n",
       "2011-10-25  Sugden          NaN    NaN  2011   Oct  \n",
       "2011-10-27  Sugden          NaN    NaN  2011   Oct  "
      ]
     },
     "metadata": {},
     "output_type": "display_data"
    },
    {
     "name": "stdout",
     "output_type": "stream",
     "text": [
      "(10, 11)\n"
     ]
    }
   ],
   "source": [
    "candy.show_df(dfRaw.head(10))"
   ]
  },
  {
   "cell_type": "markdown",
   "metadata": {},
   "source": [
    "# EDA"
   ]
  },
  {
   "cell_type": "code",
   "execution_count": 9,
   "metadata": {
    "ExecuteTime": {
     "end_time": "2019-09-04T08:45:40.571780Z",
     "start_time": "2019-09-04T08:45:40.200975Z"
    }
   },
   "outputs": [
    {
     "data": {
      "text/plain": [
       "Text(0,0.5,'Number of Students')"
      ]
     },
     "execution_count": 9,
     "metadata": {},
     "output_type": "execute_result"
    },
    {
     "data": {
      "image/png": "[encoded data removed]",
      "text/plain": [
       "<Figure size 1080x360 with 1 Axes>"
      ]
     },
     "metadata": {
      "needs_background": "light"
     },
     "output_type": "display_data"
    }
   ],
   "source": [
    "idx = pd.date_range(dfRaw.index.min(), dfRaw.index.max())\n",
    "dfRaw.reindex(idx,fill_value=0)[['HeadCount']].rolling(window=7).mean().plot(figsize=(15,5),linewidth=2,subplots=True)\n",
    "plt.title('Yearly Class Attendance',fontsize=16,fontweight='bold')\n",
    "plt.xlabel('Year',fontsize=16,fontweight='bold')\n",
    "plt.ylabel('Number of Students',fontsize=16,fontweight='bold')"
   ]
  },
  {
   "cell_type": "markdown",
   "metadata": {},
   "source": [
    "## Overview"
   ]
  },
  {
   "cell_type": "code",
   "execution_count": 10,
   "metadata": {
    "ExecuteTime": {
     "end_time": "2019-09-04T08:45:42.080736Z",
     "start_time": "2019-09-04T08:45:42.075990Z"
    }
   },
   "outputs": [
    {
     "data": {
      "text/plain": [
       "Index(['AcademicYear', 'Week', 'HeadCount', 'PaidCount', 'CashTaken',\n",
       "       'ClassTime', 'Venue', 'Event', 'Social', 'year', 'month'],\n",
       "      dtype='object')"
      ]
     },
     "execution_count": 10,
     "metadata": {},
     "output_type": "execute_result"
    }
   ],
   "source": [
    "dfRaw.columns"
   ]
  },
  {
   "cell_type": "code",
   "execution_count": 11,
   "metadata": {
    "ExecuteTime": {
     "end_time": "2019-09-04T08:45:44.602018Z",
     "start_time": "2019-09-04T08:45:44.593416Z"
    }
   },
   "outputs": [
    {
     "name": "stdout",
     "output_type": "stream",
     "text": [
      "<class 'pandas.core.frame.DataFrame'>\n",
      "DatetimeIndex: 452 entries, 2011-09-27 to 2019-05-30\n",
      "Data columns (total 11 columns):\n",
      "AcademicYear    452 non-null int32\n",
      "Week            452 non-null int32\n",
      "HeadCount       452 non-null int32\n",
      "PaidCount       452 non-null int32\n",
      "CashTaken       450 non-null float64\n",
      "ClassTime       452 non-null object\n",
      "Venue           452 non-null object\n",
      "Event           76 non-null object\n",
      "Social          9 non-null object\n",
      "year            452 non-null int64\n",
      "month           452 non-null object\n",
      "dtypes: float64(1), int32(4), int64(1), object(5)\n",
      "memory usage: 55.3+ KB\n"
     ]
    }
   ],
   "source": [
    "dfRaw.info()"
   ]
  },
  {
   "cell_type": "code",
   "execution_count": 12,
   "metadata": {
    "ExecuteTime": {
     "end_time": "2019-09-04T08:45:44.917889Z",
     "start_time": "2019-09-04T08:45:44.881983Z"
    }
   },
   "outputs": [
    {
     "data": {
      "text/html": [
       "<div>\n",
       "<style scoped>\n",
       "    .dataframe tbody tr th:only-of-type {\n",
       "        vertical-align: middle;\n",
       "    }\n",
       "\n",
       "    .dataframe tbody tr th {\n",
       "        vertical-align: top;\n",
       "    }\n",
       "\n",
       "    .dataframe thead th {\n",
       "        text-align: right;\n",
       "    }\n",
       "</style>\n",
       "<table border=\"1\" class=\"dataframe\">\n",
       "  <thead>\n",
       "    <tr style=\"text-align: right;\">\n",
       "      <th></th>\n",
       "      <th>AcademicYear</th>\n",
       "      <th>Week</th>\n",
       "      <th>HeadCount</th>\n",
       "      <th>PaidCount</th>\n",
       "      <th>CashTaken</th>\n",
       "      <th>year</th>\n",
       "    </tr>\n",
       "  </thead>\n",
       "  <tbody>\n",
       "    <tr>\n",
       "      <th>count</th>\n",
       "      <td>452.000000</td>\n",
       "      <td>452.000000</td>\n",
       "      <td>452.000000</td>\n",
       "      <td>452.000000</td>\n",
       "      <td>450.00000</td>\n",
       "      <td>452.000000</td>\n",
       "    </tr>\n",
       "    <tr>\n",
       "      <th>mean</th>\n",
       "      <td>2014.588496</td>\n",
       "      <td>14.654867</td>\n",
       "      <td>39.984513</td>\n",
       "      <td>31.108407</td>\n",
       "      <td>121.85600</td>\n",
       "      <td>2015.183628</td>\n",
       "    </tr>\n",
       "    <tr>\n",
       "      <th>std</th>\n",
       "      <td>2.307541</td>\n",
       "      <td>8.212013</td>\n",
       "      <td>32.585718</td>\n",
       "      <td>20.678389</td>\n",
       "      <td>80.42385</td>\n",
       "      <td>2.371186</td>\n",
       "    </tr>\n",
       "    <tr>\n",
       "      <th>min</th>\n",
       "      <td>2011.000000</td>\n",
       "      <td>1.000000</td>\n",
       "      <td>0.000000</td>\n",
       "      <td>0.000000</td>\n",
       "      <td>0.00000</td>\n",
       "      <td>2011.000000</td>\n",
       "    </tr>\n",
       "    <tr>\n",
       "      <th>25%</th>\n",
       "      <td>2013.000000</td>\n",
       "      <td>8.000000</td>\n",
       "      <td>21.000000</td>\n",
       "      <td>18.000000</td>\n",
       "      <td>70.20000</td>\n",
       "      <td>2013.000000</td>\n",
       "    </tr>\n",
       "    <tr>\n",
       "      <th>50%</th>\n",
       "      <td>2015.000000</td>\n",
       "      <td>15.000000</td>\n",
       "      <td>32.000000</td>\n",
       "      <td>29.000000</td>\n",
       "      <td>113.10000</td>\n",
       "      <td>2015.000000</td>\n",
       "    </tr>\n",
       "    <tr>\n",
       "      <th>75%</th>\n",
       "      <td>2017.000000</td>\n",
       "      <td>22.000000</td>\n",
       "      <td>48.000000</td>\n",
       "      <td>39.000000</td>\n",
       "      <td>152.10000</td>\n",
       "      <td>2017.000000</td>\n",
       "    </tr>\n",
       "    <tr>\n",
       "      <th>max</th>\n",
       "      <td>2018.000000</td>\n",
       "      <td>31.000000</td>\n",
       "      <td>240.000000</td>\n",
       "      <td>154.000000</td>\n",
       "      <td>600.60000</td>\n",
       "      <td>2019.000000</td>\n",
       "    </tr>\n",
       "  </tbody>\n",
       "</table>\n",
       "</div>"
      ],
      "text/plain": [
       "       AcademicYear        Week   HeadCount   PaidCount  CashTaken  \\\n",
       "count    452.000000  452.000000  452.000000  452.000000  450.00000   \n",
       "mean    2014.588496   14.654867   39.984513   31.108407  121.85600   \n",
       "std        2.307541    8.212013   32.585718   20.678389   80.42385   \n",
       "min     2011.000000    1.000000    0.000000    0.000000    0.00000   \n",
       "25%     2013.000000    8.000000   21.000000   18.000000   70.20000   \n",
       "50%     2015.000000   15.000000   32.000000   29.000000  113.10000   \n",
       "75%     2017.000000   22.000000   48.000000   39.000000  152.10000   \n",
       "max     2018.000000   31.000000  240.000000  154.000000  600.60000   \n",
       "\n",
       "              year  \n",
       "count   452.000000  \n",
       "mean   2015.183628  \n",
       "std       2.371186  \n",
       "min    2011.000000  \n",
       "25%    2013.000000  \n",
       "50%    2015.000000  \n",
       "75%    2017.000000  \n",
       "max    2019.000000  "
      ]
     },
     "execution_count": 12,
     "metadata": {},
     "output_type": "execute_result"
    }
   ],
   "source": [
    "dfRaw.describe()"
   ]
  },
  {
   "cell_type": "markdown",
   "metadata": {},
   "source": [
    "### Class time vs venues"
   ]
  },
  {
   "cell_type": "code",
   "execution_count": 13,
   "metadata": {
    "ExecuteTime": {
     "end_time": "2019-09-04T08:45:48.562999Z",
     "start_time": "2019-09-04T08:45:48.228704Z"
    }
   },
   "outputs": [
    {
     "data": {
      "text/plain": [
       "<matplotlib.axes._subplots.AxesSubplot at 0x1a1da756a0>"
      ]
     },
     "execution_count": 13,
     "metadata": {},
     "output_type": "execute_result"
    },
    {
     "data": {
      "image/png": "[encoded data removed]",
      "text/plain": [
       "<Figure size 1440x360 with 1 Axes>"
      ]
     },
     "metadata": {
      "needs_background": "light"
     },
     "output_type": "display_data"
    }
   ],
   "source": [
    "#dfRaw[['ClassTime']].plot(kind='bar')\n",
    "plt.figure(figsize=(20,5))\n",
    "sns.countplot(data=dfRaw,x='Venue', hue='ClassTime')"
   ]
  },
  {
   "cell_type": "code",
   "execution_count": 14,
   "metadata": {
    "ExecuteTime": {
     "end_time": "2019-09-04T08:45:50.170326Z",
     "start_time": "2019-09-04T08:45:49.706658Z"
    }
   },
   "outputs": [
    {
     "data": {
      "text/plain": [
       "<matplotlib.axes._subplots.AxesSubplot at 0x1a1da753c8>"
      ]
     },
     "execution_count": 14,
     "metadata": {},
     "output_type": "execute_result"
    },
    {
     "data": {
      "image/png": "[encoded data removed]",
      "text/plain": [
       "<Figure size 1440x360 with 1 Axes>"
      ]
     },
     "metadata": {
      "needs_background": "light"
     },
     "output_type": "display_data"
    }
   ],
   "source": [
    "plt.figure(figsize=(20,5))\n",
    "sns.swarmplot(data=dfRaw, x='Venue',y='HeadCount', hue='ClassTime')\n"
   ]
  },
  {
   "cell_type": "code",
   "execution_count": 15,
   "metadata": {
    "ExecuteTime": {
     "end_time": "2019-09-04T08:45:52.165932Z",
     "start_time": "2019-09-04T08:45:52.155362Z"
    }
   },
   "outputs": [
    {
     "data": {
      "text/plain": [
       "Grading            28\n",
       "First Class        21\n",
       "No Class            8\n",
       "time change         7\n",
       "Reading week        4\n",
       "Time Change         4\n",
       "Reading Week        2\n",
       "parents evening     1\n",
       "no class            1\n",
       "Name: Event, dtype: int64"
      ]
     },
     "execution_count": 15,
     "metadata": {},
     "output_type": "execute_result"
    }
   ],
   "source": [
    "dfRaw['Event'].value_counts()"
   ]
  },
  {
   "cell_type": "code",
   "execution_count": 16,
   "metadata": {
    "ExecuteTime": {
     "end_time": "2019-09-04T08:45:53.541171Z",
     "start_time": "2019-09-04T08:45:53.505471Z"
    }
   },
   "outputs": [
    {
     "data": {
      "text/html": [
       "<div>\n",
       "<style scoped>\n",
       "    .dataframe tbody tr th:only-of-type {\n",
       "        vertical-align: middle;\n",
       "    }\n",
       "\n",
       "    .dataframe tbody tr th {\n",
       "        vertical-align: top;\n",
       "    }\n",
       "\n",
       "    .dataframe thead th {\n",
       "        text-align: right;\n",
       "    }\n",
       "</style>\n",
       "<table border=\"1\" class=\"dataframe\">\n",
       "  <thead>\n",
       "    <tr style=\"text-align: right;\">\n",
       "      <th></th>\n",
       "      <th></th>\n",
       "      <th></th>\n",
       "      <th>Week</th>\n",
       "      <th>HeadCount</th>\n",
       "      <th>PaidCount</th>\n",
       "      <th>CashTaken</th>\n",
       "      <th>year</th>\n",
       "    </tr>\n",
       "    <tr>\n",
       "      <th>ClassTime</th>\n",
       "      <th>Venue</th>\n",
       "      <th>AcademicYear</th>\n",
       "      <th></th>\n",
       "      <th></th>\n",
       "      <th></th>\n",
       "      <th></th>\n",
       "      <th></th>\n",
       "    </tr>\n",
       "  </thead>\n",
       "  <tbody>\n",
       "    <tr>\n",
       "      <th rowspan=\"4\" valign=\"top\">18:30:00</th>\n",
       "      <th>Sugden</th>\n",
       "      <th>2017</th>\n",
       "      <td>6.000000</td>\n",
       "      <td>106.272727</td>\n",
       "      <td>72.909091</td>\n",
       "      <td>284.345455</td>\n",
       "      <td>2017.000000</td>\n",
       "    </tr>\n",
       "    <tr>\n",
       "      <th>Dance House</th>\n",
       "      <th>2017</th>\n",
       "      <td>7.000000</td>\n",
       "      <td>63.692308</td>\n",
       "      <td>43.076923</td>\n",
       "      <td>168.000000</td>\n",
       "      <td>2017.153846</td>\n",
       "    </tr>\n",
       "    <tr>\n",
       "      <th rowspan=\"2\" valign=\"top\">Sugden</th>\n",
       "      <th>2018</th>\n",
       "      <td>16.000000</td>\n",
       "      <td>61.451613</td>\n",
       "      <td>44.161290</td>\n",
       "      <td>172.229032</td>\n",
       "      <td>2018.612903</td>\n",
       "    </tr>\n",
       "    <tr>\n",
       "      <th>2016</th>\n",
       "      <td>15.000000</td>\n",
       "      <td>59.758621</td>\n",
       "      <td>43.517241</td>\n",
       "      <td>169.717241</td>\n",
       "      <td>2016.620690</td>\n",
       "    </tr>\n",
       "    <tr>\n",
       "      <th>17:30:00</th>\n",
       "      <th>Sugden</th>\n",
       "      <th>2018</th>\n",
       "      <td>16.000000</td>\n",
       "      <td>59.064516</td>\n",
       "      <td>35.612903</td>\n",
       "      <td>138.890323</td>\n",
       "      <td>2018.612903</td>\n",
       "    </tr>\n",
       "    <tr>\n",
       "      <th rowspan=\"2\" valign=\"top\">18:00:00</th>\n",
       "      <th rowspan=\"2\" valign=\"top\">Sugden</th>\n",
       "      <th>2015</th>\n",
       "      <td>13.000000</td>\n",
       "      <td>51.040000</td>\n",
       "      <td>37.320000</td>\n",
       "      <td>151.566667</td>\n",
       "      <td>2015.520000</td>\n",
       "    </tr>\n",
       "    <tr>\n",
       "      <th>2017</th>\n",
       "      <td>20.500000</td>\n",
       "      <td>45.166667</td>\n",
       "      <td>35.222222</td>\n",
       "      <td>137.366667</td>\n",
       "      <td>2018.000000</td>\n",
       "    </tr>\n",
       "    <tr>\n",
       "      <th rowspan=\"2\" valign=\"top\">19:00:00</th>\n",
       "      <th>Sugden</th>\n",
       "      <th>2017</th>\n",
       "      <td>22.000000</td>\n",
       "      <td>41.333333</td>\n",
       "      <td>27.266667</td>\n",
       "      <td>106.340000</td>\n",
       "      <td>2018.000000</td>\n",
       "    </tr>\n",
       "    <tr>\n",
       "      <th>Trinity</th>\n",
       "      <th>2015</th>\n",
       "      <td>13.200000</td>\n",
       "      <td>41.000000</td>\n",
       "      <td>28.200000</td>\n",
       "      <td>114.495833</td>\n",
       "      <td>2015.560000</td>\n",
       "    </tr>\n",
       "    <tr>\n",
       "      <th>18:00:00</th>\n",
       "      <th>Sugden</th>\n",
       "      <th>2014</th>\n",
       "      <td>13.538462</td>\n",
       "      <td>37.846154</td>\n",
       "      <td>34.000000</td>\n",
       "      <td>132.600000</td>\n",
       "      <td>2014.538462</td>\n",
       "    </tr>\n",
       "    <tr>\n",
       "      <th>19:00:00</th>\n",
       "      <th>Trinity</th>\n",
       "      <th>2016</th>\n",
       "      <td>15.000000</td>\n",
       "      <td>36.344828</td>\n",
       "      <td>26.068966</td>\n",
       "      <td>101.668966</td>\n",
       "      <td>2016.620690</td>\n",
       "    </tr>\n",
       "    <tr>\n",
       "      <th rowspan=\"2\" valign=\"top\">20:00:00</th>\n",
       "      <th rowspan=\"2\" valign=\"top\">Trinity</th>\n",
       "      <th>2014</th>\n",
       "      <td>8.000000</td>\n",
       "      <td>33.000000</td>\n",
       "      <td>33.000000</td>\n",
       "      <td>128.700000</td>\n",
       "      <td>2014.000000</td>\n",
       "    </tr>\n",
       "    <tr>\n",
       "      <th>2015</th>\n",
       "      <td>24.000000</td>\n",
       "      <td>32.000000</td>\n",
       "      <td>10.000000</td>\n",
       "      <td>39.000000</td>\n",
       "      <td>2016.000000</td>\n",
       "    </tr>\n",
       "    <tr>\n",
       "      <th>18:30:00</th>\n",
       "      <th>Sugden</th>\n",
       "      <th>2012</th>\n",
       "      <td>14.000000</td>\n",
       "      <td>29.407407</td>\n",
       "      <td>29.407407</td>\n",
       "      <td>114.688889</td>\n",
       "      <td>2012.592593</td>\n",
       "    </tr>\n",
       "    <tr>\n",
       "      <th>19:00:00</th>\n",
       "      <th>Trinity</th>\n",
       "      <th>2014</th>\n",
       "      <td>12.826087</td>\n",
       "      <td>28.217391</td>\n",
       "      <td>25.826087</td>\n",
       "      <td>100.721739</td>\n",
       "      <td>2014.521739</td>\n",
       "    </tr>\n",
       "    <tr>\n",
       "      <th>18:30:00</th>\n",
       "      <th>Sugden</th>\n",
       "      <th>2011</th>\n",
       "      <td>14.000000</td>\n",
       "      <td>27.185185</td>\n",
       "      <td>25.629630</td>\n",
       "      <td>99.955556</td>\n",
       "      <td>2011.592593</td>\n",
       "    </tr>\n",
       "    <tr>\n",
       "      <th rowspan=\"2\" valign=\"top\">18:00:00</th>\n",
       "      <th rowspan=\"2\" valign=\"top\">Sugden</th>\n",
       "      <th>2012</th>\n",
       "      <td>14.000000</td>\n",
       "      <td>26.629630</td>\n",
       "      <td>26.629630</td>\n",
       "      <td>103.855556</td>\n",
       "      <td>2012.592593</td>\n",
       "    </tr>\n",
       "    <tr>\n",
       "      <th>2013</th>\n",
       "      <td>13.160000</td>\n",
       "      <td>24.320000</td>\n",
       "      <td>24.320000</td>\n",
       "      <td>94.848000</td>\n",
       "      <td>2013.520000</td>\n",
       "    </tr>\n",
       "    <tr>\n",
       "      <th>19:00:00</th>\n",
       "      <th>Dance House</th>\n",
       "      <th>2017</th>\n",
       "      <td>14.000000</td>\n",
       "      <td>24.000000</td>\n",
       "      <td>39.000000</td>\n",
       "      <td>152.100000</td>\n",
       "      <td>2018.000000</td>\n",
       "    </tr>\n",
       "    <tr>\n",
       "      <th>18:00:00</th>\n",
       "      <th>Academy2</th>\n",
       "      <th>2015</th>\n",
       "      <td>26.500000</td>\n",
       "      <td>23.000000</td>\n",
       "      <td>23.000000</td>\n",
       "      <td>89.700000</td>\n",
       "      <td>2016.000000</td>\n",
       "    </tr>\n",
       "    <tr>\n",
       "      <th>19:00:00</th>\n",
       "      <th>Room 8</th>\n",
       "      <th>2014</th>\n",
       "      <td>26.000000</td>\n",
       "      <td>21.000000</td>\n",
       "      <td>21.000000</td>\n",
       "      <td>81.900000</td>\n",
       "      <td>2015.000000</td>\n",
       "    </tr>\n",
       "    <tr>\n",
       "      <th>18:00:00</th>\n",
       "      <th>Sugden</th>\n",
       "      <th>2011</th>\n",
       "      <td>14.000000</td>\n",
       "      <td>20.962963</td>\n",
       "      <td>20.000000</td>\n",
       "      <td>78.000000</td>\n",
       "      <td>2011.592593</td>\n",
       "    </tr>\n",
       "    <tr>\n",
       "      <th>19:30:00</th>\n",
       "      <th>Room 8</th>\n",
       "      <th>2014</th>\n",
       "      <td>27.000000</td>\n",
       "      <td>19.000000</td>\n",
       "      <td>19.000000</td>\n",
       "      <td>74.100000</td>\n",
       "      <td>2015.000000</td>\n",
       "    </tr>\n",
       "    <tr>\n",
       "      <th>20:30:00</th>\n",
       "      <th>Armitage</th>\n",
       "      <th>2013</th>\n",
       "      <td>12.500000</td>\n",
       "      <td>18.541667</td>\n",
       "      <td>16.875000</td>\n",
       "      <td>65.812500</td>\n",
       "      <td>2013.500000</td>\n",
       "    </tr>\n",
       "    <tr>\n",
       "      <th>17:30:00</th>\n",
       "      <th>Sugden</th>\n",
       "      <th>2013</th>\n",
       "      <td>24.000000</td>\n",
       "      <td>15.000000</td>\n",
       "      <td>15.000000</td>\n",
       "      <td>58.500000</td>\n",
       "      <td>2014.000000</td>\n",
       "    </tr>\n",
       "    <tr>\n",
       "      <th rowspan=\"3\" valign=\"top\">18:00:00</th>\n",
       "      <th>Trinity</th>\n",
       "      <th>2014</th>\n",
       "      <td>25.333333</td>\n",
       "      <td>14.000000</td>\n",
       "      <td>14.000000</td>\n",
       "      <td>54.600000</td>\n",
       "      <td>2015.000000</td>\n",
       "    </tr>\n",
       "    <tr>\n",
       "      <th>Academy 2</th>\n",
       "      <th>2013</th>\n",
       "      <td>26.500000</td>\n",
       "      <td>11.000000</td>\n",
       "      <td>11.000000</td>\n",
       "      <td>42.900000</td>\n",
       "      <td>2014.000000</td>\n",
       "    </tr>\n",
       "    <tr>\n",
       "      <th>Room 8</th>\n",
       "      <th>2014</th>\n",
       "      <td>28.000000</td>\n",
       "      <td>9.000000</td>\n",
       "      <td>9.000000</td>\n",
       "      <td>35.100000</td>\n",
       "      <td>2015.000000</td>\n",
       "    </tr>\n",
       "    <tr>\n",
       "      <th rowspan=\"2\" valign=\"top\">20:30:00</th>\n",
       "      <th>Room 8</th>\n",
       "      <th>2013</th>\n",
       "      <td>26.000000</td>\n",
       "      <td>8.000000</td>\n",
       "      <td>8.000000</td>\n",
       "      <td>31.200000</td>\n",
       "      <td>2014.000000</td>\n",
       "    </tr>\n",
       "    <tr>\n",
       "      <th>Academy 2</th>\n",
       "      <th>2013</th>\n",
       "      <td>26.666667</td>\n",
       "      <td>5.666667</td>\n",
       "      <td>5.666667</td>\n",
       "      <td>22.100000</td>\n",
       "      <td>2014.000000</td>\n",
       "    </tr>\n",
       "  </tbody>\n",
       "</table>\n",
       "</div>"
      ],
      "text/plain": [
       "                                         Week   HeadCount  PaidCount  \\\n",
       "ClassTime Venue       AcademicYear                                     \n",
       "18:30:00  Sugden      2017           6.000000  106.272727  72.909091   \n",
       "          Dance House 2017           7.000000   63.692308  43.076923   \n",
       "          Sugden      2018          16.000000   61.451613  44.161290   \n",
       "                      2016          15.000000   59.758621  43.517241   \n",
       "17:30:00  Sugden      2018          16.000000   59.064516  35.612903   \n",
       "18:00:00  Sugden      2015          13.000000   51.040000  37.320000   \n",
       "                      2017          20.500000   45.166667  35.222222   \n",
       "19:00:00  Sugden      2017          22.000000   41.333333  27.266667   \n",
       "          Trinity     2015          13.200000   41.000000  28.200000   \n",
       "18:00:00  Sugden      2014          13.538462   37.846154  34.000000   \n",
       "19:00:00  Trinity     2016          15.000000   36.344828  26.068966   \n",
       "20:00:00  Trinity     2014           8.000000   33.000000  33.000000   \n",
       "                      2015          24.000000   32.000000  10.000000   \n",
       "18:30:00  Sugden      2012          14.000000   29.407407  29.407407   \n",
       "19:00:00  Trinity     2014          12.826087   28.217391  25.826087   \n",
       "18:30:00  Sugden      2011          14.000000   27.185185  25.629630   \n",
       "18:00:00  Sugden      2012          14.000000   26.629630  26.629630   \n",
       "                      2013          13.160000   24.320000  24.320000   \n",
       "19:00:00  Dance House 2017          14.000000   24.000000  39.000000   \n",
       "18:00:00  Academy2    2015          26.500000   23.000000  23.000000   \n",
       "19:00:00  Room 8      2014          26.000000   21.000000  21.000000   \n",
       "18:00:00  Sugden      2011          14.000000   20.962963  20.000000   \n",
       "19:30:00  Room 8      2014          27.000000   19.000000  19.000000   \n",
       "20:30:00  Armitage    2013          12.500000   18.541667  16.875000   \n",
       "17:30:00  Sugden      2013          24.000000   15.000000  15.000000   \n",
       "18:00:00  Trinity     2014          25.333333   14.000000  14.000000   \n",
       "          Academy 2   2013          26.500000   11.000000  11.000000   \n",
       "          Room 8      2014          28.000000    9.000000   9.000000   \n",
       "20:30:00  Room 8      2013          26.000000    8.000000   8.000000   \n",
       "          Academy 2   2013          26.666667    5.666667   5.666667   \n",
       "\n",
       "                                     CashTaken         year  \n",
       "ClassTime Venue       AcademicYear                           \n",
       "18:30:00  Sugden      2017          284.345455  2017.000000  \n",
       "          Dance House 2017          168.000000  2017.153846  \n",
       "          Sugden      2018          172.229032  2018.612903  \n",
       "                      2016          169.717241  2016.620690  \n",
       "17:30:00  Sugden      2018          138.890323  2018.612903  \n",
       "18:00:00  Sugden      2015          151.566667  2015.520000  \n",
       "                      2017          137.366667  2018.000000  \n",
       "19:00:00  Sugden      2017          106.340000  2018.000000  \n",
       "          Trinity     2015          114.495833  2015.560000  \n",
       "18:00:00  Sugden      2014          132.600000  2014.538462  \n",
       "19:00:00  Trinity     2016          101.668966  2016.620690  \n",
       "20:00:00  Trinity     2014          128.700000  2014.000000  \n",
       "                      2015           39.000000  2016.000000  \n",
       "18:30:00  Sugden      2012          114.688889  2012.592593  \n",
       "19:00:00  Trinity     2014          100.721739  2014.521739  \n",
       "18:30:00  Sugden      2011           99.955556  2011.592593  \n",
       "18:00:00  Sugden      2012          103.855556  2012.592593  \n",
       "                      2013           94.848000  2013.520000  \n",
       "19:00:00  Dance House 2017          152.100000  2018.000000  \n",
       "18:00:00  Academy2    2015           89.700000  2016.000000  \n",
       "19:00:00  Room 8      2014           81.900000  2015.000000  \n",
       "18:00:00  Sugden      2011           78.000000  2011.592593  \n",
       "19:30:00  Room 8      2014           74.100000  2015.000000  \n",
       "20:30:00  Armitage    2013           65.812500  2013.500000  \n",
       "17:30:00  Sugden      2013           58.500000  2014.000000  \n",
       "18:00:00  Trinity     2014           54.600000  2015.000000  \n",
       "          Academy 2   2013           42.900000  2014.000000  \n",
       "          Room 8      2014           35.100000  2015.000000  \n",
       "20:30:00  Room 8      2013           31.200000  2014.000000  \n",
       "          Academy 2   2013           22.100000  2014.000000  "
      ]
     },
     "execution_count": 16,
     "metadata": {},
     "output_type": "execute_result"
    }
   ],
   "source": [
    "dfRaw.groupby(['ClassTime','Venue','AcademicYear']).mean().sort_values(by='HeadCount',ascending=False)"
   ]
  },
  {
   "cell_type": "markdown",
   "metadata": {},
   "source": [
    "## Modelling 1.0"
   ]
  },
  {
   "cell_type": "code",
   "execution_count": 17,
   "metadata": {
    "ExecuteTime": {
     "end_time": "2019-09-04T08:47:18.410426Z",
     "start_time": "2019-09-04T08:47:10.390862Z"
    }
   },
   "outputs": [],
   "source": [
    "from fastai.old.fastai.imports import *\n",
    "from fastai.old.fastai.structured import *\n",
    "from sklearn.ensemble import RandomForestRegressor\n",
    "from IPython.display import display\n",
    "\n",
    "from sklearn import metrics"
   ]
  },
  {
   "cell_type": "code",
   "execution_count": 18,
   "metadata": {
    "ExecuteTime": {
     "end_time": "2019-09-04T08:47:18.473721Z",
     "start_time": "2019-09-04T08:47:18.468455Z"
    }
   },
   "outputs": [
    {
     "data": {
      "text/plain": [
       "Index(['AcademicYear', 'Week', 'HeadCount', 'PaidCount', 'CashTaken',\n",
       "       'ClassTime', 'Venue', 'Event', 'Social', 'year', 'month'],\n",
       "      dtype='object')"
      ]
     },
     "execution_count": 18,
     "metadata": {},
     "output_type": "execute_result"
    }
   ],
   "source": [
    "dfRaw.columns"
   ]
  },
  {
   "cell_type": "markdown",
   "metadata": {},
   "source": [
    "### Using features as they are\n",
    "\n",
    "I will use the features as they are with no feature engineering or modification.  In this model there is only the date as the index and I havent extracted the week of year, month or any other time based data.  I also am missing data for reading week for the past few years.  I have included all data from 2010/11 through to 2019.  Some of this data, or lack of may well be affecting the model fit and ability to generalise."
   ]
  },
  {
   "cell_type": "code",
   "execution_count": 19,
   "metadata": {
    "ExecuteTime": {
     "end_time": "2019-09-04T08:47:26.372861Z",
     "start_time": "2019-09-04T08:47:26.209548Z"
    }
   },
   "outputs": [
    {
     "name": "stdout",
     "output_type": "stream",
     "text": [
      "<class 'pandas.core.frame.DataFrame'>\n",
      "DatetimeIndex: 452 entries, 2011-09-27 to 2019-05-30\n",
      "Data columns (total 7 columns):\n",
      "AcademicYear    452 non-null int32\n",
      "AcademicWeek    452 non-null int32\n",
      "HeadCount       452 non-null int32\n",
      "ClassTime       452 non-null object\n",
      "Venue           452 non-null object\n",
      "Event           452 non-null object\n",
      "Social          452 non-null object\n",
      "dtypes: int32(3), object(4)\n",
      "memory usage: 23.0+ KB\n"
     ]
    },
    {
     "name": "stderr",
     "output_type": "stream",
     "text": [
      "/anaconda3/envs/old_fastai-cpu_env/lib/python3.6/site-packages/pandas/core/frame.py:4025: SettingWithCopyWarning: \n",
      "A value is trying to be set on a copy of a slice from a DataFrame\n",
      "\n",
      "See the caveats in the documentation: http://pandas.pydata.org/pandas-docs/stable/indexing.html#indexing-view-versus-copy\n",
      "  return super(DataFrame, self).rename(**kwargs)\n",
      "/anaconda3/envs/old_fastai-cpu_env/lib/python3.6/site-packages/pandas/core/frame.py:4034: SettingWithCopyWarning: \n",
      "A value is trying to be set on a copy of a slice from a DataFrame\n",
      "\n",
      "See the caveats in the documentation: http://pandas.pydata.org/pandas-docs/stable/indexing.html#indexing-view-versus-copy\n",
      "  downcast=downcast, **kwargs)\n"
     ]
    }
   ],
   "source": [
    "dfForest = dfRaw[['AcademicYear', 'Week', 'HeadCount','ClassTime', 'Venue', 'Event', 'Social']]\n",
    "dfForest.rename(columns={'Week':'AcademicWeek'},inplace=True)\n",
    "dfForest.fillna('None',axis=1,inplace=True)\n",
    "#dfForest['ClassTime'] = dfForest['ClassTime'].astype(str)\n",
    "dfForest.info()"
   ]
  },
  {
   "cell_type": "code",
   "execution_count": 20,
   "metadata": {
    "ExecuteTime": {
     "end_time": "2019-09-04T08:47:33.819320Z",
     "start_time": "2019-09-04T08:47:33.574633Z"
    }
   },
   "outputs": [
    {
     "name": "stderr",
     "output_type": "stream",
     "text": [
      "/Users/chrispickford/Documents/Coding/Python/Projects/fastai/old/fastai/structured.py:137: SettingWithCopyWarning: \n",
      "A value is trying to be set on a copy of a slice from a DataFrame.\n",
      "Try using .loc[row_indexer,col_indexer] = value instead\n",
      "\n",
      "See the caveats in the documentation: http://pandas.pydata.org/pandas-docs/stable/indexing.html#indexing-view-versus-copy\n",
      "  if is_string_dtype(c): df[n] = c.astype('category').cat.as_ordered()\n"
     ]
    }
   ],
   "source": [
    "train_cats(dfForest)"
   ]
  },
  {
   "cell_type": "code",
   "execution_count": 21,
   "metadata": {
    "ExecuteTime": {
     "end_time": "2019-09-04T08:47:34.000432Z",
     "start_time": "2019-09-04T08:47:33.989710Z"
    }
   },
   "outputs": [
    {
     "name": "stdout",
     "output_type": "stream",
     "text": [
      "<class 'pandas.core.frame.DataFrame'>\n",
      "DatetimeIndex: 452 entries, 2011-09-27 to 2019-05-30\n",
      "Data columns (total 7 columns):\n",
      "AcademicYear    452 non-null int32\n",
      "AcademicWeek    452 non-null int32\n",
      "HeadCount       452 non-null int32\n",
      "ClassTime       452 non-null category\n",
      "Venue           452 non-null category\n",
      "Event           452 non-null category\n",
      "Social          452 non-null category\n",
      "dtypes: category(4), int32(3)\n",
      "memory usage: 11.9 KB\n"
     ]
    }
   ],
   "source": [
    "dfForest.info()"
   ]
  },
  {
   "cell_type": "code",
   "execution_count": 22,
   "metadata": {
    "ExecuteTime": {
     "end_time": "2019-09-04T08:47:34.807020Z",
     "start_time": "2019-09-04T08:47:34.784896Z"
    }
   },
   "outputs": [],
   "source": [
    "df, y, nas = proc_df(dfForest, 'HeadCount')"
   ]
  },
  {
   "cell_type": "markdown",
   "metadata": {},
   "source": [
    "### Simplest model"
   ]
  },
  {
   "cell_type": "code",
   "execution_count": 23,
   "metadata": {
    "ExecuteTime": {
     "end_time": "2019-09-04T08:47:35.793104Z",
     "start_time": "2019-09-04T08:47:35.525736Z"
    }
   },
   "outputs": [
    {
     "name": "stderr",
     "output_type": "stream",
     "text": [
      "/anaconda3/envs/old_fastai-cpu_env/lib/python3.6/site-packages/sklearn/ensemble/forest.py:245: FutureWarning: The default value of n_estimators will change from 10 in version 0.20 to 100 in 0.22.\n",
      "  \"10 in version 0.20 to 100 in 0.22.\", FutureWarning)\n"
     ]
    },
    {
     "data": {
      "text/plain": [
       "0.9732870670497696"
      ]
     },
     "execution_count": 23,
     "metadata": {},
     "output_type": "execute_result"
    }
   ],
   "source": [
    "m = RandomForestRegressor(n_jobs=-1)\n",
    "m.fit(df, y)\n",
    "m.score(df,y)"
   ]
  },
  {
   "cell_type": "markdown",
   "metadata": {},
   "source": [
    "### Split to training and testing sets"
   ]
  },
  {
   "cell_type": "code",
   "execution_count": 24,
   "metadata": {
    "ExecuteTime": {
     "end_time": "2019-09-04T08:47:36.235963Z",
     "start_time": "2019-09-04T08:47:36.224063Z"
    }
   },
   "outputs": [
    {
     "data": {
      "text/plain": [
       "((402, 6), (402,), (50, 6))"
      ]
     },
     "execution_count": 24,
     "metadata": {},
     "output_type": "execute_result"
    }
   ],
   "source": [
    "def split_vals(a,n): return a[:n].copy(), a[n:].copy()\n",
    "\n",
    "n_valid = 50\n",
    "n_trn = len(df)-n_valid\n",
    "raw_train, raw_valid = split_vals(df, n_trn)\n",
    "X_train, X_valid = split_vals(df, n_trn)\n",
    "y_train, y_valid = split_vals(y, n_trn)\n",
    "\n",
    "X_train.shape, y_train.shape, X_valid.shape"
   ]
  },
  {
   "cell_type": "code",
   "execution_count": 25,
   "metadata": {
    "ExecuteTime": {
     "end_time": "2019-09-04T08:47:36.809986Z",
     "start_time": "2019-09-04T08:47:36.804427Z"
    }
   },
   "outputs": [],
   "source": [
    "def rmse(x,y): return math.sqrt(((x-y)**2).mean())\n",
    "\n",
    "def print_score(m):\n",
    "    res = [rmse(m.predict(X_train), y_train), rmse(m.predict(X_valid), y_valid),\n",
    "                m.score(X_train, y_train), m.score(X_valid, y_valid)]\n",
    "    if hasattr(m, 'oob_score_'): res.append(m.oob_score_)\n",
    "    print(res)"
   ]
  },
  {
   "cell_type": "code",
   "execution_count": 26,
   "metadata": {
    "ExecuteTime": {
     "end_time": "2019-09-04T08:47:37.684854Z",
     "start_time": "2019-09-04T08:47:37.144275Z"
    }
   },
   "outputs": [
    {
     "name": "stderr",
     "output_type": "stream",
     "text": [
      "/anaconda3/envs/old_fastai-cpu_env/lib/python3.6/site-packages/sklearn/ensemble/forest.py:245: FutureWarning: The default value of n_estimators will change from 10 in version 0.20 to 100 in 0.22.\n",
      "  \"10 in version 0.20 to 100 in 0.22.\", FutureWarning)\n"
     ]
    },
    {
     "name": "stdout",
     "output_type": "stream",
     "text": [
      "CPU times: user 19.3 ms, sys: 7.48 ms, total: 26.8 ms\n",
      "Wall time: 110 ms\n",
      "[5.20840786016331, 16.183201166641908, 0.9756191270787685, 0.5666387131405621]\n"
     ]
    }
   ],
   "source": [
    "m = RandomForestRegressor(n_jobs=-1)\n",
    "%time m.fit(X_train, y_train)\n",
    "print_score(m)"
   ]
  },
  {
   "cell_type": "code",
   "execution_count": 27,
   "metadata": {
    "ExecuteTime": {
     "end_time": "2019-09-04T08:47:37.879674Z",
     "start_time": "2019-09-04T08:47:37.862533Z"
    }
   },
   "outputs": [
    {
     "data": {
      "text/plain": [
       "(array([99., 99., 99., 86., 99., 99., 99., 99., 86., 99.]), 96.4, 92)"
      ]
     },
     "execution_count": 27,
     "metadata": {},
     "output_type": "execute_result"
    }
   ],
   "source": [
    "preds = np.stack([t.predict(X_valid) for t in m.estimators_])\n",
    "preds[:,0], np.mean(preds[:,0]), y_valid[0]"
   ]
  },
  {
   "cell_type": "code",
   "execution_count": 28,
   "metadata": {
    "ExecuteTime": {
     "end_time": "2019-09-04T08:47:38.218289Z",
     "start_time": "2019-09-04T08:47:38.077672Z"
    }
   },
   "outputs": [
    {
     "data": {
      "image/png": "[encoded data removed]",
      "text/plain": [
       "<Figure size 432x288 with 1 Axes>"
      ]
     },
     "metadata": {
      "needs_background": "light"
     },
     "output_type": "display_data"
    }
   ],
   "source": [
    "plt.plot([metrics.r2_score(y_valid, np.mean(preds[:i+1], axis=0)) for i in range(10)]);"
   ]
  },
  {
   "cell_type": "markdown",
   "metadata": {},
   "source": [
    "### Use more trees"
   ]
  },
  {
   "cell_type": "code",
   "execution_count": 29,
   "metadata": {
    "ExecuteTime": {
     "end_time": "2019-09-04T08:47:39.562248Z",
     "start_time": "2019-09-04T08:47:38.991136Z"
    }
   },
   "outputs": [
    {
     "name": "stdout",
     "output_type": "stream",
     "text": [
      "[4.640560669478897, 16.067706354673028, 0.9806455787457208, 0.5728021884831032]\n"
     ]
    }
   ],
   "source": [
    "m = RandomForestRegressor(n_estimators=80, n_jobs=-1)\n",
    "m.fit(X_train, y_train)\n",
    "print_score(m)"
   ]
  },
  {
   "cell_type": "markdown",
   "metadata": {},
   "source": [
    "Massively overfitting or effect of time series data, or both"
   ]
  },
  {
   "cell_type": "code",
   "execution_count": 30,
   "metadata": {
    "ExecuteTime": {
     "end_time": "2019-09-04T08:47:39.817664Z",
     "start_time": "2019-09-04T08:47:39.740167Z"
    }
   },
   "outputs": [
    {
     "data": {
      "text/plain": [
       "(array([78., 60., 99., 99., 86., 94., 86., 94., 75., 60., 60., 75., 60., 99., 42., 99., 67., 99., 99., 99.,\n",
       "        94., 99., 42., 67., 86., 60., 99., 60., 99., 60., 99., 86., 42., 99., 99., 60., 99., 74., 99., 65.,\n",
       "        99., 99., 42., 86., 94., 99., 99., 94., 60., 99., 65., 60., 99., 60., 94., 99., 99., 99., 99., 60.,\n",
       "        42., 99., 99., 94., 60., 60., 75., 42., 65., 99., 99., 99., 99., 94., 99., 74., 94., 67., 99., 60.]),\n",
       " 81.775,\n",
       " 92)"
      ]
     },
     "execution_count": 30,
     "metadata": {},
     "output_type": "execute_result"
    }
   ],
   "source": [
    "preds = np.stack([t.predict(X_valid) for t in m.estimators_])\n",
    "preds[:,0], np.mean(preds[:,0]), y_valid[0]"
   ]
  },
  {
   "cell_type": "code",
   "execution_count": 31,
   "metadata": {
    "ExecuteTime": {
     "end_time": "2019-09-04T08:47:40.185366Z",
     "start_time": "2019-09-04T08:47:40.012355Z"
    }
   },
   "outputs": [
    {
     "data": {
      "image/png": "[encoded data removed]",
      "text/plain": [
       "<Figure size 432x288 with 1 Axes>"
      ]
     },
     "metadata": {
      "needs_background": "light"
     },
     "output_type": "display_data"
    }
   ],
   "source": [
    "plt.plot([metrics.r2_score(y_valid, np.mean(preds[:i+1], axis=0)) for i in range(80)]);"
   ]
  },
  {
   "cell_type": "markdown",
   "metadata": {},
   "source": [
    "### Use OOB samples, restrict depth and restrict features"
   ]
  },
  {
   "cell_type": "code",
   "execution_count": 32,
   "metadata": {
    "ExecuteTime": {
     "end_time": "2019-09-04T08:47:42.494755Z",
     "start_time": "2019-09-04T08:47:41.911865Z"
    }
   },
   "outputs": [
    {
     "name": "stdout",
     "output_type": "stream",
     "text": [
      "[4.753973773126241, 16.797648272898204, 0.9796879927678214, 0.5331060854517451, 0.8494976106557366]\n"
     ]
    }
   ],
   "source": [
    "m = RandomForestRegressor(n_estimators=80, min_samples_leaf=1, max_features=.9, n_jobs=-1, oob_score=True)\n",
    "m.fit(X_train, y_train)\n",
    "print_score(m)"
   ]
  },
  {
   "cell_type": "code",
   "execution_count": 33,
   "metadata": {
    "ExecuteTime": {
     "end_time": "2019-09-04T08:47:42.852957Z",
     "start_time": "2019-09-04T08:47:42.681809Z"
    }
   },
   "outputs": [
    {
     "data": {
      "image/png": "[encoded data removed]",
      "text/plain": [
       "<Figure size 432x288 with 1 Axes>"
      ]
     },
     "metadata": {
      "needs_background": "light"
     },
     "output_type": "display_data"
    }
   ],
   "source": [
    "plt.plot([metrics.r2_score(y_valid, np.mean(preds[:i+1], axis=0)) for i in range(80)]);"
   ]
  },
  {
   "cell_type": "code",
   "execution_count": null,
   "metadata": {},
   "outputs": [],
   "source": []
  }
 ],
 "metadata": {
  "kernelspec": {
   "display_name": "old_fastai-cpu_env",
   "language": "python",
   "name": "old_fastai-cpu_env"
  },
  "language_info": {
   "codemirror_mode": {
    "name": "ipython",
    "version": 3
   },
   "file_extension": ".py",
   "mimetype": "text/x-python",
   "name": "python",
   "nbconvert_exporter": "python",
   "pygments_lexer": "ipython3",
   "version": "3.6.8"
  },
  "toc": {
   "base_numbering": 1,
   "nav_menu": {},
   "number_sections": true,
   "sideBar": true,
   "skip_h1_title": false,
   "title_cell": "Table of Contents",
   "title_sidebar": "Contents",
   "toc_cell": false,
   "toc_position": {},
   "toc_section_display": true,
   "toc_window_display": true
  },
  "varInspector": {
   "cols": {
    "lenName": 16,
    "lenType": 16,
    "lenVar": 40
   },
   "kernels_config": {
    "python": {
     "delete_cmd_postfix": "",
     "delete_cmd_prefix": "del ",
     "library": "var_list.py",
     "varRefreshCmd": "print(var_dic_list())"
    },
    "r": {
     "delete_cmd_postfix": ") ",
     "delete_cmd_prefix": "rm(",
     "library": "var_list.r",
     "varRefreshCmd": "cat(var_dic_list()) "
    }
   },
   "types_to_exclude": [
    "module",
    "function",
    "builtin_function_or_method",
    "instance",
    "_Feature"
   ],
   "window_display": false
  }
 },
 "nbformat": 4,
 "nbformat_minor": 1
}
