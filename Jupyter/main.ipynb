{
 "cells": [
  {
   "cell_type": "code",
   "execution_count": 1,
   "metadata": {
    "ExecuteTime": {
     "end_time": "2019-07-19T10:48:16.476527Z",
     "start_time": "2019-07-19T10:48:15.832091Z"
    }
   },
   "outputs": [],
   "source": [
    "import os\n",
    "import sys\n",
    "import config as cfg\n",
    "import time\n",
    "\n",
    "import pandas as pd\n",
    "import numpy as np"
   ]
  },
  {
   "cell_type": "code",
   "execution_count": 2,
   "metadata": {
    "ExecuteTime": {
     "end_time": "2019-07-19T10:48:16.493949Z",
     "start_time": "2019-07-19T10:48:16.491159Z"
    }
   },
   "outputs": [],
   "source": [
    "PROJECT_NAME = 'project name'\n",
    "PROJECT_START_DATE = 'start date' #ENGLISH DATE FORMAT\n",
    "PROJECT_END_DATE = '' #ENGLISH DATE FORMAT"
   ]
  },
  {
   "cell_type": "code",
   "execution_count": 3,
   "metadata": {
    "ExecuteTime": {
     "end_time": "2019-07-19T10:48:18.002077Z",
     "start_time": "2019-07-19T10:48:17.989578Z"
    },
    "scrolled": true
   },
   "outputs": [
    {
     "name": "stdout",
     "output_type": "stream",
     "text": [
      "The haribo package provides the following functions to use in Jupyter:\n",
      "\n",
      "set_screen_width() - sets cells to be 90% of screen width\n",
      "\n",
      "show_df(dataFrame, allRows = False) - shows all columns of a dataFrame when displayed\n",
      "\n",
      "pickle_it(data, path) - safely pickles a file\n",
      "\n",
      "from_pickle_jar(path) - safely loads a pickled file\n",
      "\n"
     ]
    },
    {
     "data": {
      "text/html": [
       "<style>.container { width:90% !important; }</style>"
      ],
      "text/plain": [
       "<IPython.core.display.HTML object>"
      ]
     },
     "metadata": {},
     "output_type": "display_data"
    }
   ],
   "source": [
    "#ROOT, PROJECT_ROOT, PACKAGE_ROOT = config.configure_environment('Local',PROJECT_NAME)\n",
    "\n",
    "config = cfg.privateConfig(cfg.OS, PROJECT_NAME)"
   ]
  },
  {
   "cell_type": "code",
   "execution_count": 4,
   "metadata": {
    "ExecuteTime": {
     "end_time": "2019-07-19T10:48:19.994487Z",
     "start_time": "2019-07-19T10:48:19.538654Z"
    }
   },
   "outputs": [],
   "source": [
    "from DataCrane.dbutility import gnrl_database_interaction as gdbi\n",
    "from DataCrane.dbutility import credentials\n",
    "from DataCrane.apiutility import gnrl_api_interaction as gapi\n",
    "from CodeCandy.haribo import jupyter as candy"
   ]
  },
  {
   "cell_type": "markdown",
   "metadata": {},
   "source": [
    "# Create a connection object"
   ]
  },
  {
   "cell_type": "code",
   "execution_count": 5,
   "metadata": {
    "ExecuteTime": {
     "end_time": "2019-07-19T10:48:23.919427Z",
     "start_time": "2019-07-19T10:48:23.348092Z"
    }
   },
   "outputs": [
    {
     "name": "stdout",
     "output_type": "stream",
     "text": [
      "/Users/chrispickford/Documents/Coding/Python/Projects/Template/Jupyter\n",
      "/Users/chrispickford/Documents/Coding/Python/Projects/Template/Logs\n",
      "project name.log\n",
      "Log file name specified: project name.log\n",
      "Creating log file\n",
      "Log file set:  /Users/chrispickford/Documents/Coding/Python/Projects/Template/Logs/project name.log\n",
      "None\n",
      "project_ID\n",
      "API connection object created.  Pass this to a general_database_interaction.executeSQL object for best results\n"
     ]
    },
    {
     "ename": "FileNotFoundError",
     "evalue": "[Errno 2] No such file or directory: '/Documents/Coding/Python/Datascience/PRIVATE KEYS/Google/Datascience Service Account/privateKey.json'",
     "output_type": "error",
     "traceback": [
      "\u001b[0;31m---------------------------------------------------------------------------\u001b[0m",
      "\u001b[0;31mFileNotFoundError\u001b[0m                         Traceback (most recent call last)",
      "\u001b[0;32m<ipython-input-5-259591052119>\u001b[0m in \u001b[0;36m<module>\u001b[0;34m\u001b[0m\n\u001b[1;32m     11\u001b[0m \u001b[0mconnection2\u001b[0m \u001b[0;34m=\u001b[0m \u001b[0mgdbi\u001b[0m\u001b[0;34m.\u001b[0m\u001b[0mGBQConnection\u001b[0m\u001b[0;34m(\u001b[0m\u001b[0mconfig\u001b[0m\u001b[0;34m,\u001b[0m \u001b[0mcredentials\u001b[0m\u001b[0;34m=\u001b[0m\u001b[0mnewUser\u001b[0m\u001b[0;34m,\u001b[0m\u001b[0mlogFileName\u001b[0m\u001b[0;34m=\u001b[0m\u001b[0mlogFileName\u001b[0m\u001b[0;34m,\u001b[0m\u001b[0museLegacy\u001b[0m\u001b[0;34m=\u001b[0m\u001b[0;32mFalse\u001b[0m\u001b[0;34m,\u001b[0m \u001b[0mprojectId\u001b[0m\u001b[0;34m=\u001b[0m\u001b[0;34m'project_ID'\u001b[0m\u001b[0;34m,\u001b[0m\u001b[0mif_exists\u001b[0m\u001b[0;34m=\u001b[0m\u001b[0;34m'replace'\u001b[0m\u001b[0;34m)\u001b[0m \u001b[0;31m# push to BQ\u001b[0m\u001b[0;34m\u001b[0m\u001b[0;34m\u001b[0m\u001b[0m\n\u001b[1;32m     12\u001b[0m \u001b[0mconnection\u001b[0m \u001b[0;34m=\u001b[0m \u001b[0mgapi\u001b[0m\u001b[0;34m.\u001b[0m\u001b[0mAdwordsAPIConnection\u001b[0m\u001b[0;34m(\u001b[0m\u001b[0mconfig\u001b[0m\u001b[0;34m,\u001b[0m \u001b[0mos\u001b[0m\u001b[0;34m.\u001b[0m\u001b[0mpath\u001b[0m\u001b[0;34m.\u001b[0m\u001b[0mjoin\u001b[0m\u001b[0;34m(\u001b[0m\u001b[0mconfig\u001b[0m\u001b[0;34m.\u001b[0m\u001b[0mPROJECT_ROOT\u001b[0m\u001b[0;34m,\u001b[0m\u001b[0;34m'Materials'\u001b[0m\u001b[0;34m,\u001b[0m \u001b[0;34m'googleads.yaml'\u001b[0m\u001b[0;34m)\u001b[0m\u001b[0;34m,\u001b[0m \u001b[0mcredentials\u001b[0m\u001b[0;34m=\u001b[0m\u001b[0mnewUser\u001b[0m\u001b[0;34m,\u001b[0m \u001b[0mlogFileName\u001b[0m \u001b[0;34m=\u001b[0m \u001b[0mlogFileName\u001b[0m\u001b[0;34m)\u001b[0m\u001b[0;34m\u001b[0m\u001b[0;34m\u001b[0m\u001b[0m\n\u001b[0;32m---> 13\u001b[0;31m \u001b[0mconnection\u001b[0m \u001b[0;34m=\u001b[0m \u001b[0mgapi\u001b[0m\u001b[0;34m.\u001b[0m\u001b[0mGaAPIConnection\u001b[0m\u001b[0;34m(\u001b[0m\u001b[0mconfig\u001b[0m\u001b[0;34m,\u001b[0m \u001b[0mcredentials\u001b[0m\u001b[0;34m=\u001b[0m\u001b[0mnewUser\u001b[0m\u001b[0;34m,\u001b[0m \u001b[0mlogFileName\u001b[0m \u001b[0;34m=\u001b[0m \u001b[0mlogFileName\u001b[0m\u001b[0;34m)\u001b[0m\u001b[0;34m\u001b[0m\u001b[0;34m\u001b[0m\u001b[0m\n\u001b[0m",
      "\u001b[0;32m~/Documents/Coding/Python/Projects/DataCrane/apiutility/gnrl_api_interaction.py\u001b[0m in \u001b[0;36m__init__\u001b[0;34m(self, config, credentials, logFileName)\u001b[0m\n\u001b[1;32m    437\u001b[0m \u001b[0;34m\u001b[0m\u001b[0m\n\u001b[1;32m    438\u001b[0m         GAcredentials = ServiceAccountCredentials.from_json_keyfile_name(\n\u001b[0;32m--> 439\u001b[0;31m             self.privateKey, self.SCOPES)\n\u001b[0m\u001b[1;32m    440\u001b[0m         \u001b[0mself\u001b[0m\u001b[0;34m.\u001b[0m\u001b[0manalytics\u001b[0m \u001b[0;34m=\u001b[0m \u001b[0mbuild\u001b[0m\u001b[0;34m(\u001b[0m\u001b[0;34m'analyticsreporting'\u001b[0m\u001b[0;34m,\u001b[0m \u001b[0;34m'v4'\u001b[0m\u001b[0;34m,\u001b[0m \u001b[0mcredentials\u001b[0m\u001b[0;34m=\u001b[0m\u001b[0mGAcredentials\u001b[0m\u001b[0;34m)\u001b[0m\u001b[0;34m\u001b[0m\u001b[0;34m\u001b[0m\u001b[0m\n\u001b[1;32m    441\u001b[0m \u001b[0;34m\u001b[0m\u001b[0m\n",
      "\u001b[0;32m/anaconda3/envs/utilityPackages/lib/python3.6/site-packages/oauth2client/service_account.py\u001b[0m in \u001b[0;36mfrom_json_keyfile_name\u001b[0;34m(cls, filename, scopes, token_uri, revoke_uri)\u001b[0m\n\u001b[1;32m    217\u001b[0m                 \u001b[0mthe\u001b[0m \u001b[0mkeyfile\u001b[0m\u001b[0;34m.\u001b[0m\u001b[0;34m\u001b[0m\u001b[0;34m\u001b[0m\u001b[0m\n\u001b[1;32m    218\u001b[0m         \"\"\"\n\u001b[0;32m--> 219\u001b[0;31m         \u001b[0;32mwith\u001b[0m \u001b[0mopen\u001b[0m\u001b[0;34m(\u001b[0m\u001b[0mfilename\u001b[0m\u001b[0;34m,\u001b[0m \u001b[0;34m'r'\u001b[0m\u001b[0;34m)\u001b[0m \u001b[0;32mas\u001b[0m \u001b[0mfile_obj\u001b[0m\u001b[0;34m:\u001b[0m\u001b[0;34m\u001b[0m\u001b[0;34m\u001b[0m\u001b[0m\n\u001b[0m\u001b[1;32m    220\u001b[0m             \u001b[0mclient_credentials\u001b[0m \u001b[0;34m=\u001b[0m \u001b[0mjson\u001b[0m\u001b[0;34m.\u001b[0m\u001b[0mload\u001b[0m\u001b[0;34m(\u001b[0m\u001b[0mfile_obj\u001b[0m\u001b[0;34m)\u001b[0m\u001b[0;34m\u001b[0m\u001b[0;34m\u001b[0m\u001b[0m\n\u001b[1;32m    221\u001b[0m         return cls._from_parsed_json_keyfile(client_credentials, scopes,\n",
      "\u001b[0;31mFileNotFoundError\u001b[0m: [Errno 2] No such file or directory: '/Documents/Coding/Python/Datascience/PRIVATE KEYS/Google/Datascience Service Account/privateKey.json'"
     ]
    }
   ],
   "source": [
    "logFileName = PROJECT_NAME + '.log'\n",
    "_ = config.set_logging(logFileName)\n",
    "\n",
    "newUser = cfg.credentials()\n",
    "\n",
    "dataIn = {'credentials': newUser,\n",
    "         'logFileName': 'LogMSSQLQuery.log'}\n",
    "\n",
    "connection = gdbi.MSSQLConnection(config,credentials=newUser, logFileName=logFileName)\n",
    "connection = gdbi.GBQConnection(config, credentials=newUser,logFileName=logFileName)\n",
    "connection2 = gdbi.GBQConnection(config, credentials=newUser,logFileName=logFileName,useLegacy=False, projectId='project_ID',if_exists='replace') # push to BQ\n",
    "connection = gapi.AdwordsAPIConnection(config, os.path.join(config.PROJECT_ROOT,'Materials', 'googleads.yaml'), credentials=newUser, logFileName = logFileName)\n",
    "connection = gapi.GaAPIConnection(config, credentials=newUser, logFileName = logFileName)"
   ]
  },
  {
   "cell_type": "markdown",
   "metadata": {},
   "source": [
    "# Create a connection object handler"
   ]
  },
  {
   "cell_type": "code",
   "execution_count": null,
   "metadata": {},
   "outputs": [],
   "source": [
    "sqlConnection = gdbi.ExecuteSQL(\n",
    "    connection=connection, \n",
    "    query = os.path.join(config.PROJECT_ROOT,'Materials', 'Example.sql'),\n",
    "    outputPath = os.path.join(config.PROJECT_ROOT,'Data', 'Example.csv')\n",
    ")\n",
    "\n",
    "query = {\n",
    "    'reportRequests': [\n",
    "    {\n",
    "      'viewId': 'IDNUMBER' ,\n",
    "      'dateRanges': [{'startDate': '7daysAgo', 'endDate': 'today'}],\n",
    "      'metrics': [{'expression': 'ga:sessions'}],\n",
    "      'dimensions': [{'name': 'ga:country'}]\n",
    "    }]}\n",
    "\n",
    "sqlConnection = gapi.ExecuteAPICall(\n",
    "    connection=connection, \n",
    "    query=query,\n",
    "    outputPath=os.path.join(config.PROJECT_ROOT,'Data', 'GA_API_data.csv')\n",
    ")"
   ]
  },
  {
   "cell_type": "markdown",
   "metadata": {},
   "source": [
    "# Pull data"
   ]
  },
  {
   "cell_type": "code",
   "execution_count": null,
   "metadata": {},
   "outputs": [],
   "source": [
    "message, data = sqlConnection.execute_script()\n",
    "data"
   ]
  },
  {
   "cell_type": "markdown",
   "metadata": {},
   "source": [
    "# Put code here"
   ]
  },
  {
   "cell_type": "code",
   "execution_count": null,
   "metadata": {},
   "outputs": [],
   "source": []
  },
  {
   "cell_type": "code",
   "execution_count": null,
   "metadata": {},
   "outputs": [],
   "source": []
  },
  {
   "cell_type": "code",
   "execution_count": null,
   "metadata": {},
   "outputs": [],
   "source": []
  },
  {
   "cell_type": "code",
   "execution_count": null,
   "metadata": {},
   "outputs": [],
   "source": []
  },
  {
   "cell_type": "code",
   "execution_count": null,
   "metadata": {},
   "outputs": [],
   "source": []
  },
  {
   "cell_type": "code",
   "execution_count": null,
   "metadata": {},
   "outputs": [],
   "source": []
  }
 ],
 "metadata": {
  "kernelspec": {
   "display_name": "utilityPackages",
   "language": "python",
   "name": "utilitypackages"
  },
  "language_info": {
   "codemirror_mode": {
    "name": "ipython",
    "version": 3
   },
   "file_extension": ".py",
   "mimetype": "text/x-python",
   "name": "python",
   "nbconvert_exporter": "python",
   "pygments_lexer": "ipython3",
   "version": "3.6.8"
  },
  "toc": {
   "base_numbering": 1,
   "nav_menu": {},
   "number_sections": true,
   "sideBar": true,
   "skip_h1_title": false,
   "title_cell": "Table of Contents",
   "title_sidebar": "Contents",
   "toc_cell": false,
   "toc_position": {},
   "toc_section_display": true,
   "toc_window_display": false
  },
  "varInspector": {
   "cols": {
    "lenName": 16,
    "lenType": 16,
    "lenVar": 40
   },
   "kernels_config": {
    "python": {
     "delete_cmd_postfix": "",
     "delete_cmd_prefix": "del ",
     "library": "var_list.py",
     "varRefreshCmd": "print(var_dic_list())"
    },
    "r": {
     "delete_cmd_postfix": ") ",
     "delete_cmd_prefix": "rm(",
     "library": "var_list.r",
     "varRefreshCmd": "cat(var_dic_list()) "
    }
   },
   "types_to_exclude": [
    "module",
    "function",
    "builtin_function_or_method",
    "instance",
    "_Feature"
   ],
   "window_display": false
  }
 },
 "nbformat": 4,
 "nbformat_minor": 1
}
